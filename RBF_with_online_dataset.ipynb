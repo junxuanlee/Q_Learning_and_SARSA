{
 "cells": [
  {
   "cell_type": "code",
   "execution_count": 1,
   "metadata": {},
   "outputs": [],
   "source": [
    "%matplotlib inline\n",
    "from functions import *"
   ]
  },
  {
   "cell_type": "code",
   "execution_count": 2,
   "metadata": {},
   "outputs": [
    {
     "data": {
      "text/html": [
       "<div>\n",
       "<style scoped>\n",
       "    .dataframe tbody tr th:only-of-type {\n",
       "        vertical-align: middle;\n",
       "    }\n",
       "\n",
       "    .dataframe tbody tr th {\n",
       "        vertical-align: top;\n",
       "    }\n",
       "\n",
       "    .dataframe thead th {\n",
       "        text-align: right;\n",
       "    }\n",
       "</style>\n",
       "<table border=\"1\" class=\"dataframe\">\n",
       "  <thead>\n",
       "    <tr style=\"text-align: right;\">\n",
       "      <th></th>\n",
       "      <th>Week of the month (first week, second, third, fourth or fifth week</th>\n",
       "      <th>Day of the week (Monday to Friday)</th>\n",
       "      <th>Non-urgent order</th>\n",
       "      <th>Urgent order</th>\n",
       "      <th>Order type A</th>\n",
       "      <th>Order type B</th>\n",
       "      <th>Order type C</th>\n",
       "      <th>Fiscal sector orders</th>\n",
       "      <th>Orders from the traffic controller sector</th>\n",
       "      <th>Banking orders (1)</th>\n",
       "      <th>Banking orders (2)</th>\n",
       "      <th>Banking orders (3)</th>\n",
       "      <th>Target (Total orders)</th>\n",
       "    </tr>\n",
       "  </thead>\n",
       "  <tbody>\n",
       "    <tr>\n",
       "      <th>0</th>\n",
       "      <td>1</td>\n",
       "      <td>4</td>\n",
       "      <td>316.307</td>\n",
       "      <td>223.270</td>\n",
       "      <td>61.543</td>\n",
       "      <td>175.586</td>\n",
       "      <td>302.448</td>\n",
       "      <td>0.000</td>\n",
       "      <td>65556</td>\n",
       "      <td>44914</td>\n",
       "      <td>188411</td>\n",
       "      <td>14793</td>\n",
       "      <td>539.577</td>\n",
       "    </tr>\n",
       "    <tr>\n",
       "      <th>1</th>\n",
       "      <td>1</td>\n",
       "      <td>5</td>\n",
       "      <td>128.633</td>\n",
       "      <td>96.042</td>\n",
       "      <td>38.058</td>\n",
       "      <td>56.037</td>\n",
       "      <td>130.580</td>\n",
       "      <td>0.000</td>\n",
       "      <td>40419</td>\n",
       "      <td>21399</td>\n",
       "      <td>89461</td>\n",
       "      <td>7679</td>\n",
       "      <td>224.675</td>\n",
       "    </tr>\n",
       "    <tr>\n",
       "      <th>2</th>\n",
       "      <td>1</td>\n",
       "      <td>6</td>\n",
       "      <td>43.651</td>\n",
       "      <td>84.375</td>\n",
       "      <td>21.826</td>\n",
       "      <td>25.125</td>\n",
       "      <td>82.461</td>\n",
       "      <td>1.386</td>\n",
       "      <td>11992</td>\n",
       "      <td>3452</td>\n",
       "      <td>21305</td>\n",
       "      <td>14947</td>\n",
       "      <td>129.412</td>\n",
       "    </tr>\n",
       "    <tr>\n",
       "      <th>3</th>\n",
       "      <td>2</td>\n",
       "      <td>2</td>\n",
       "      <td>171.297</td>\n",
       "      <td>127.667</td>\n",
       "      <td>41.542</td>\n",
       "      <td>113.294</td>\n",
       "      <td>162.284</td>\n",
       "      <td>18.156</td>\n",
       "      <td>49971</td>\n",
       "      <td>33703</td>\n",
       "      <td>69054</td>\n",
       "      <td>18423</td>\n",
       "      <td>317.120</td>\n",
       "    </tr>\n",
       "    <tr>\n",
       "      <th>4</th>\n",
       "      <td>2</td>\n",
       "      <td>3</td>\n",
       "      <td>90.532</td>\n",
       "      <td>113.526</td>\n",
       "      <td>37.679</td>\n",
       "      <td>56.618</td>\n",
       "      <td>116.220</td>\n",
       "      <td>6.459</td>\n",
       "      <td>48534</td>\n",
       "      <td>19646</td>\n",
       "      <td>16411</td>\n",
       "      <td>20257</td>\n",
       "      <td>210.517</td>\n",
       "    </tr>\n",
       "  </tbody>\n",
       "</table>\n",
       "</div>"
      ],
      "text/plain": [
       "   Week of the month (first week, second, third, fourth or fifth week  \\\n",
       "0                                                  1                    \n",
       "1                                                  1                    \n",
       "2                                                  1                    \n",
       "3                                                  2                    \n",
       "4                                                  2                    \n",
       "\n",
       "   Day of the week (Monday to Friday)  Non-urgent order  Urgent order  \\\n",
       "0                                   4           316.307       223.270   \n",
       "1                                   5           128.633        96.042   \n",
       "2                                   6            43.651        84.375   \n",
       "3                                   2           171.297       127.667   \n",
       "4                                   3            90.532       113.526   \n",
       "\n",
       "   Order type A  Order type B  Order type C  Fiscal sector orders  \\\n",
       "0        61.543       175.586       302.448                 0.000   \n",
       "1        38.058        56.037       130.580                 0.000   \n",
       "2        21.826        25.125        82.461                 1.386   \n",
       "3        41.542       113.294       162.284                18.156   \n",
       "4        37.679        56.618       116.220                 6.459   \n",
       "\n",
       "   Orders from the traffic controller sector  Banking orders (1)  \\\n",
       "0                                      65556               44914   \n",
       "1                                      40419               21399   \n",
       "2                                      11992                3452   \n",
       "3                                      49971               33703   \n",
       "4                                      48534               19646   \n",
       "\n",
       "   Banking orders (2)  Banking orders (3)  Target (Total orders)  \n",
       "0              188411               14793                539.577  \n",
       "1               89461                7679                224.675  \n",
       "2               21305               14947                129.412  \n",
       "3               69054               18423                317.120  \n",
       "4               16411               20257                210.517  "
      ]
     },
     "execution_count": 2,
     "metadata": {},
     "output_type": "execute_result"
    }
   ],
   "source": [
    "data = pandas.read_csv('Daily_Demand_Forecasting_Orders.csv', delimiter=';')\n",
    "data.head()"
   ]
  },
  {
   "cell_type": "code",
   "execution_count": 3,
   "metadata": {},
   "outputs": [],
   "source": [
    "X = data.iloc[:, :-3]\n",
    "y = data.iloc[:, -3]\n",
    "y = np.expand_dims(y,1)\n",
    "\n",
    "X = np.array(X)\n",
    "y = np.array(y)\n"
   ]
  },
  {
   "cell_type": "code",
   "execution_count": 4,
   "metadata": {},
   "outputs": [],
   "source": [
    "from sklearn import preprocessing\n",
    "X = preprocessing.scale(X)\n",
    "y = preprocessing.scale(y)"
   ]
  },
  {
   "cell_type": "markdown",
   "metadata": {},
   "source": [
    "# Plot non-linearity"
   ]
  },
  {
   "cell_type": "code",
   "execution_count": 5,
   "metadata": {},
   "outputs": [
    {
     "data": {
      "text/plain": [
       "[<matplotlib.lines.Line2D at 0x174a105eb20>]"
      ]
     },
     "execution_count": 5,
     "metadata": {},
     "output_type": "execute_result"
    },
    {
     "data": {
      "image/png": "[encoded data removed]",
      "text/plain": [
       "<Figure size 432x288 with 1 Axes>"
      ]
     },
     "metadata": {
      "needs_background": "light"
     },
     "output_type": "display_data"
    }
   ],
   "source": [
    "plt.plot(y)"
   ]
  },
  {
   "cell_type": "markdown",
   "metadata": {},
   "source": [
    "# Closed Form (Pseudoinverse)"
   ]
  },
  {
   "cell_type": "code",
   "execution_count": 6,
   "metadata": {},
   "outputs": [
    {
     "data": {
      "text/plain": [
       "[<matplotlib.lines.Line2D at 0x174a1101880>]"
      ]
     },
     "execution_count": 6,
     "metadata": {},
     "output_type": "execute_result"
    },
    {
     "data": {
      "image/png": "[encoded data removed]",
      "text/plain": [
       "<Figure size 432x288 with 1 Axes>"
      ]
     },
     "metadata": {
      "needs_background": "light"
     },
     "output_type": "display_data"
    }
   ],
   "source": [
    "#Pseudo inverse only works for linear regression\n",
    "#becuase the data is non-linear, directly applying pseudoinverse does not give good results \n",
    "\n",
    "w = closed_form(X,y)\n",
    "pred_linear = X @ w\n",
    "\n",
    "plt.plot(y,pred_linear,'.',Color='red')"
   ]
  },
  {
   "cell_type": "markdown",
   "metadata": {},
   "source": [
    "# Radial Basis Function + Pseudoinverse"
   ]
  },
  {
   "cell_type": "code",
   "execution_count": 7,
   "metadata": {},
   "outputs": [
    {
     "data": {
      "text/plain": [
       "[<matplotlib.lines.Line2D at 0x174a116f130>]"
      ]
     },
     "execution_count": 7,
     "metadata": {},
     "output_type": "execute_result"
    },
    {
     "data": {
      "image/png": "[encoded data removed]",
      "text/plain": [
       "<Figure size 432x288 with 1 Axes>"
      ]
     },
     "metadata": {
      "needs_background": "light"
     },
     "output_type": "display_data"
    }
   ],
   "source": [
    "C = 60\n",
    "\n",
    "U = RBF_design_matrix(X,C)\n",
    "w_pseudoinv = RBF_pseudoinverse(X, y, C)\n",
    "pred_RBF = U @ w_pseudoinv\n",
    "\n",
    "plt.plot(y,pred_RBF,'.',Color='blue')"
   ]
  },
  {
   "cell_type": "code",
   "execution_count": 8,
   "metadata": {},
   "outputs": [
    {
     "name": "stdout",
     "output_type": "stream",
     "text": [
      "2.1864961679476425 4.1492511367629376e-15\n"
     ]
    }
   ],
   "source": [
    "print(np.linalg.norm(y-pred_linear), np.linalg.norm(y-pred_RBF))"
   ]
  },
  {
   "cell_type": "markdown",
   "metadata": {},
   "source": [
    "# Radial Basis Function + SGD"
   ]
  },
  {
   "cell_type": "code",
   "execution_count": 13,
   "metadata": {},
   "outputs": [
    {
     "name": "stdout",
     "output_type": "stream",
     "text": [
      "Epoch: 0 Loss: 47.391411931313144\n",
      "Epoch: 1 Loss: 47.389311566053514\n",
      "Epoch: 2 Loss: 47.38723757379559\n",
      "Epoch: 3 Loss: 47.38518962338968\n",
      "Epoch: 4 Loss: 47.383167387844196\n",
      "Epoch: 5 Loss: 47.38117054427337\n",
      "Epoch: 6 Loss: 47.3791987738457\n",
      "Epoch: 7 Loss: 47.37725176173307\n",
      "Epoch: 8 Loss: 47.375329197060466\n",
      "Epoch: 9 Loss: 47.37343077285634\n",
      "Epoch: 10 Loss: 47.37155618600359\n",
      "Epoch: 11 Loss: 47.36970513719118\n",
      "Epoch: 12 Loss: 47.367877330866335\n",
      "Epoch: 13 Loss: 47.36607247518736\n",
      "Epoch: 14 Loss: 47.36429028197705\n",
      "Epoch: 15 Loss: 47.362530466676624\n",
      "Epoch: 16 Loss: 47.36079274830036\n",
      "Epoch: 17 Loss: 47.35907684939072\n",
      "Epoch: 18 Loss: 47.35738249597398\n",
      "Epoch: 19 Loss: 47.3557094175166\n",
      "Epoch: 20 Loss: 47.35405734688191\n",
      "Epoch: 21 Loss: 47.35242602028752\n",
      "Epoch: 22 Loss: 47.35081517726323\n",
      "Epoch: 23 Loss: 47.349224560609365\n",
      "Epoch: 24 Loss: 47.34765391635578\n",
      "Epoch: 25 Loss: 47.34610299372125\n",
      "Epoch: 26 Loss: 47.34457154507347\n",
      "Epoch: 27 Loss: 47.34305932588952\n",
      "Epoch: 28 Loss: 47.34156609471676\n",
      "Epoch: 29 Loss: 47.340091613134355\n",
      "Epoch: 30 Loss: 47.33863564571518\n",
      "Epoch: 31 Loss: 47.3371979599882\n",
      "Epoch: 32 Loss: 47.33577832640141\n",
      "Epoch: 33 Loss: 47.334376518285104\n",
      "Epoch: 34 Loss: 47.332992311815765\n",
      "Epoch: 35 Loss: 47.33162548598029\n",
      "Epoch: 36 Loss: 47.33027582254067\n",
      "Epoch: 37 Loss: 47.328943105999215\n",
      "Epoch: 38 Loss: 47.327627123564106\n",
      "Epoch: 39 Loss: 47.32632766511537\n",
      "Epoch: 40 Loss: 47.32504452317145\n",
      "Epoch: 41 Loss: 47.32377749285595\n",
      "Epoch: 42 Loss: 47.32252637186504\n",
      "Epoch: 43 Loss: 47.321290960435036\n",
      "Epoch: 44 Loss: 47.3200710613106\n",
      "Epoch: 45 Loss: 47.318866479713215\n",
      "Epoch: 46 Loss: 47.31767702331004\n",
      "Epoch: 47 Loss: 47.31650250218327\n",
      "Epoch: 48 Loss: 47.31534272879979\n",
      "Epoch: 49 Loss: 47.3141975179812\n",
      "Epoch: 50 Loss: 47.31306668687429\n",
      "Epoch: 51 Loss: 47.3119500549218\n",
      "Epoch: 52 Loss: 47.31084744383366\n",
      "Epoch: 53 Loss: 47.30975867755841\n",
      "Epoch: 54 Loss: 47.308683582255256\n",
      "Epoch: 55 Loss: 47.30762198626613\n",
      "Epoch: 56 Loss: 47.306573720088416\n",
      "Epoch: 57 Loss: 47.30553861634782\n",
      "Epoch: 58 Loss: 47.30451650977168\n",
      "Epoch: 59 Loss: 47.30350723716254\n",
      "Epoch: 60 Loss: 47.302510637372144\n",
      "Epoch: 61 Loss: 47.30152655127564\n",
      "Epoch: 62 Loss: 47.300554821746246\n",
      "Epoch: 63 Loss: 47.299595293630105\n",
      "Epoch: 64 Loss: 47.29864781372153\n",
      "Epoch: 65 Loss: 47.297712230738554\n",
      "Epoch: 66 Loss: 47.29678839529876\n",
      "Epoch: 67 Loss: 47.29587615989544\n",
      "Epoch: 68 Loss: 47.294975378874\n",
      "Epoch: 69 Loss: 47.29408590840881\n",
      "Epoch: 70 Loss: 47.29320760648012\n",
      "Epoch: 71 Loss: 47.29234033285147\n",
      "Epoch: 72 Loss: 47.291483949047205\n",
      "Epoch: 73 Loss: 47.29063831833047\n",
      "Epoch: 74 Loss: 47.289803305681374\n",
      "Epoch: 75 Loss: 47.28897877777526\n",
      "Epoch: 76 Loss: 47.288164602961686\n",
      "Epoch: 77 Loss: 47.28736065124317\n",
      "Epoch: 78 Loss: 47.28656679425457\n",
      "Epoch: 79 Loss: 47.28578290524254\n",
      "Epoch: 80 Loss: 47.285008859045305\n",
      "Epoch: 81 Loss: 47.284244532072634\n",
      "Epoch: 82 Loss: 47.28348980228619\n",
      "Epoch: 83 Loss: 47.28274454917997\n",
      "Epoch: 84 Loss: 47.2820086537611\n",
      "Epoch: 85 Loss: 47.28128199853083\n",
      "Epoch: 86 Loss: 47.28056446746575\n",
      "Epoch: 87 Loss: 47.27985594599932\n",
      "Epoch: 88 Loss: 47.2791563210035\n",
      "Epoch: 89 Loss: 47.27846548077076\n",
      "Epoch: 90 Loss: 47.27778331499623\n",
      "Epoch: 91 Loss: 47.27710971475999\n",
      "Epoch: 92 Loss: 47.276444572509845\n",
      "Epoch: 93 Loss: 47.27578778204405\n",
      "Epoch: 94 Loss: 47.27513923849435\n",
      "Epoch: 95 Loss: 47.27449883830924\n",
      "Epoch: 96 Loss: 47.27386647923752\n",
      "Epoch: 97 Loss: 47.27324206031181\n",
      "Epoch: 98 Loss: 47.272625481832556\n",
      "Epoch: 99 Loss: 47.272016645352075\n",
      "Epoch: 0 Loss: 46.57839000155606\n",
      "Epoch: 1 Loss: 45.16317461734296\n",
      "Epoch: 2 Loss: 43.867046053721104\n",
      "Epoch: 3 Loss: 42.67927685451767\n",
      "Epoch: 4 Loss: 41.59937693249106\n",
      "Epoch: 5 Loss: 40.64550260019766\n",
      "Epoch: 6 Loss: 39.768962162759514\n",
      "Epoch: 7 Loss: 38.96284769826189\n",
      "Epoch: 8 Loss: 38.22088386565251\n",
      "Epoch: 9 Loss: 37.53736928373254\n",
      "Epoch: 10 Loss: 36.91982466183024\n",
      "Epoch: 11 Loss: 36.35431511002589\n",
      "Epoch: 12 Loss: 35.857737536284965\n",
      "Epoch: 13 Loss: 35.4513612375686\n",
      "Epoch: 14 Loss: 35.106607093301044\n",
      "Epoch: 15 Loss: 34.84462853565356\n",
      "Epoch: 16 Loss: 34.623083153044455\n",
      "Epoch: 17 Loss: 34.414195962030036\n",
      "Epoch: 18 Loss: 34.21687658190162\n",
      "Epoch: 19 Loss: 34.03013973853582\n",
      "Epoch: 20 Loss: 33.853094811303016\n",
      "Epoch: 21 Loss: 33.68493643038413\n",
      "Epoch: 22 Loss: 33.52493601857964\n",
      "Epoch: 23 Loss: 33.372434182381745\n",
      "Epoch: 24 Loss: 33.226833866689574\n",
      "Epoch: 25 Loss: 33.08759419618793\n",
      "Epoch: 26 Loss: 32.95422493417785\n",
      "Epoch: 27 Loss: 32.826281496632525\n",
      "Epoch: 28 Loss: 32.70336046553183\n",
      "Epoch: 29 Loss: 32.585095551175236\n",
      "Epoch: 30 Loss: 32.47115395824949\n",
      "Epoch: 31 Loss: 32.36123311499138\n",
      "Epoch: 32 Loss: 32.255057728890044\n",
      "Epoch: 33 Loss: 32.16795406560915\n",
      "Epoch: 34 Loss: 32.08362155603492\n",
      "Epoch: 35 Loss: 32.00129196322804\n",
      "Epoch: 36 Loss: 31.92933827372195\n",
      "Epoch: 37 Loss: 31.86195400589998\n",
      "Epoch: 38 Loss: 31.79548749272702\n",
      "Epoch: 39 Loss: 31.72991280763\n",
      "Epoch: 40 Loss: 31.66520693931127\n",
      "Epoch: 41 Loss: 31.601349377123896\n",
      "Epoch: 42 Loss: 31.538321750333758\n",
      "Epoch: 43 Loss: 31.476107514774405\n",
      "Epoch: 44 Loss: 31.425240819942974\n",
      "Epoch: 45 Loss: 31.38937217882468\n",
      "Epoch: 46 Loss: 31.356250412547865\n",
      "Epoch: 47 Loss: 31.32347714878828\n",
      "Epoch: 48 Loss: 31.291048422266798\n",
      "Epoch: 49 Loss: 31.258960807054365\n",
      "Epoch: 50 Loss: 31.227211308612347\n",
      "Epoch: 51 Loss: 31.19579727211907\n",
      "Epoch: 52 Loss: 31.16471630496055\n",
      "Epoch: 53 Loss: 31.133966211518327\n",
      "Epoch: 54 Loss: 31.10354493861326\n",
      "Epoch: 55 Loss: 31.073450530163758\n",
      "Epoch: 56 Loss: 31.04368108979427\n",
      "Epoch: 57 Loss: 31.014234750285702\n",
      "Epoch: 58 Loss: 30.985109648897986\n",
      "Epoch: 59 Loss: 30.956303907716855\n",
      "Epoch: 60 Loss: 30.92781561828463\n",
      "Epoch: 61 Loss: 30.899642829869787\n",
      "Epoch: 62 Loss: 30.871783540813485\n",
      "Epoch: 63 Loss: 30.844235692465272\n",
      "Epoch: 64 Loss: 30.816997165284555\n",
      "Epoch: 65 Loss: 30.79721344229032\n",
      "Epoch: 66 Loss: 30.788920566263347\n",
      "Epoch: 67 Loss: 30.780691636649042\n",
      "Epoch: 68 Loss: 30.772527439403635\n",
      "Epoch: 69 Loss: 30.764428658387853\n",
      "Epoch: 70 Loss: 30.756395878924156\n",
      "Epoch: 71 Loss: 30.748429591805255\n",
      "Epoch: 72 Loss: 30.740530197630044\n",
      "Epoch: 73 Loss: 30.732698011363368\n",
      "Epoch: 74 Loss: 30.724933267032277\n",
      "Epoch: 75 Loss: 30.71723612248632\n",
      "Epoch: 76 Loss: 30.709606664162003\n",
      "Epoch: 77 Loss: 30.702044911802282\n",
      "Epoch: 78 Loss: 30.694550823091635\n",
      "Epoch: 79 Loss: 30.68712429817489\n",
      "Epoch: 80 Loss: 30.679765184035343\n",
      "Epoch: 81 Loss: 30.672473278713017\n",
      "Epoch: 82 Loss: 30.665248335349364\n",
      "Epoch: 83 Loss: 30.65809006604871\n",
      "Epoch: 84 Loss: 30.650998145550144\n",
      "Epoch: 85 Loss: 30.64397221470675\n",
      "Epoch: 86 Loss: 30.63701188377144\n",
      "Epoch: 87 Loss: 30.630116735490507\n",
      "Epoch: 88 Loss: 30.623286328007843\n",
      "Epoch: 89 Loss: 30.616520197584045\n",
      "Epoch: 90 Loss: 30.609817861135515\n",
      "Epoch: 91 Loss: 30.603178818599734\n",
      "Epoch: 92 Loss: 30.59660255513314\n",
      "Epoch: 93 Loss: 30.590088543148823\n",
      "Epoch: 94 Loss: 30.58363624420127\n",
      "Epoch: 95 Loss: 30.577245110725677\n",
      "Epoch: 96 Loss: 30.570914587639447\n",
      "Epoch: 97 Loss: 30.564644113813273\n",
      "Epoch: 98 Loss: 30.558433123419466\n",
      "Epoch: 99 Loss: 30.552281047164673\n",
      "Epoch: 0 Loss: 48.195770007252854\n",
      "Epoch: 1 Loss: 44.88907558515281\n",
      "Epoch: 2 Loss: 42.117172720474706\n",
      "Epoch: 3 Loss: 39.650756648598744\n",
      "Epoch: 4 Loss: 37.44603710150942\n",
      "Epoch: 5 Loss: 35.50569868222249\n",
      "Epoch: 6 Loss: 33.786914692292015\n",
      "Epoch: 7 Loss: 32.23013808161961\n",
      "Epoch: 8 Loss: 30.81763194578812\n",
      "Epoch: 9 Loss: 29.535651181233135\n",
      "Epoch: 10 Loss: 28.437391877196706\n",
      "Epoch: 11 Loss: 27.43977328155019\n",
      "Epoch: 12 Loss: 26.530989645964652\n",
      "Epoch: 13 Loss: 25.7020135060489\n",
      "Epoch: 14 Loss: 24.944831625081086\n",
      "Epoch: 15 Loss: 24.252316187003213\n",
      "Epoch: 16 Loss: 23.618114955189785\n",
      "Epoch: 17 Loss: 23.036557171190967\n",
      "Epoch: 18 Loss: 22.51357907887456\n",
      "Epoch: 19 Loss: 22.060851522229367\n",
      "Epoch: 20 Loss: 21.674866045657346\n",
      "Epoch: 21 Loss: 21.354856917506222\n",
      "Epoch: 22 Loss: 21.06046051583941\n",
      "Epoch: 23 Loss: 20.78921211542819\n",
      "Epoch: 24 Loss: 20.53890084153088\n",
      "Epoch: 25 Loss: 20.307541854414257\n",
      "Epoch: 26 Loss: 20.093351866787202\n",
      "Epoch: 27 Loss: 19.921417356001047\n",
      "Epoch: 28 Loss: 19.766586177809256\n",
      "Epoch: 29 Loss: 19.62341598373852\n",
      "Epoch: 30 Loss: 19.49190150820832\n",
      "Epoch: 31 Loss: 19.380481374710282\n",
      "Epoch: 32 Loss: 19.28334262157459\n",
      "Epoch: 33 Loss: 19.193724676515334\n",
      "Epoch: 34 Loss: 19.10969842909636\n",
      "Epoch: 35 Loss: 19.030927703839026\n",
      "Epoch: 36 Loss: 18.95644826314751\n",
      "Epoch: 37 Loss: 18.88587839286066\n",
      "Epoch: 38 Loss: 18.818873764808508\n",
      "Epoch: 39 Loss: 18.755123704549703\n",
      "Epoch: 40 Loss: 18.694347835041032\n"
     ]
    },
    {
     "name": "stdout",
     "output_type": "stream",
     "text": [
      "Epoch: 41 Loss: 18.63629305787787\n",
      "Epoch: 42 Loss: 18.580730837762303\n",
      "Epoch: 43 Loss: 18.52745475943023\n",
      "Epoch: 44 Loss: 18.476278329454228\n",
      "Epoch: 45 Loss: 18.427032998180923\n",
      "Epoch: 46 Loss: 18.37956637960027\n",
      "Epoch: 47 Loss: 18.333740649213595\n",
      "Epoch: 48 Loss: 18.289431101998737\n",
      "Epoch: 49 Loss: 18.246524854389424\n",
      "Epoch: 50 Loss: 18.20693824548341\n",
      "Epoch: 51 Loss: 18.172087154280003\n",
      "Epoch: 52 Loss: 18.13810567446349\n",
      "Epoch: 53 Loss: 18.10493016961121\n",
      "Epoch: 54 Loss: 18.072503338571224\n",
      "Epoch: 55 Loss: 18.04077357063964\n",
      "Epoch: 56 Loss: 18.009726120165226\n",
      "Epoch: 57 Loss: 17.979679533243694\n",
      "Epoch: 58 Loss: 17.95016772841945\n",
      "Epoch: 59 Loss: 17.92115989400566\n",
      "Epoch: 60 Loss: 17.892628228991732\n",
      "Epoch: 61 Loss: 17.86454763335846\n",
      "Epoch: 62 Loss: 17.83689542988308\n",
      "Epoch: 63 Loss: 17.809651114264025\n",
      "Epoch: 64 Loss: 17.785392080596246\n",
      "Epoch: 65 Loss: 17.765575340929413\n",
      "Epoch: 66 Loss: 17.74596621414577\n",
      "Epoch: 67 Loss: 17.72655421959063\n",
      "Epoch: 68 Loss: 17.707330059391353\n",
      "Epoch: 69 Loss: 17.688285489317146\n",
      "Epoch: 70 Loss: 17.669413203052247\n",
      "Epoch: 71 Loss: 17.650706728521527\n",
      "Epoch: 72 Loss: 17.632160335044112\n",
      "Epoch: 73 Loss: 17.6137689502139\n",
      "Epoch: 74 Loss: 17.59552808551621\n",
      "Epoch: 75 Loss: 17.577433769789728\n",
      "Epoch: 76 Loss: 17.559482489732453\n",
      "Epoch: 77 Loss: 17.542439346336277\n",
      "Epoch: 78 Loss: 17.52579904551965\n",
      "Epoch: 79 Loss: 17.50925525832824\n",
      "Epoch: 80 Loss: 17.49280679597166\n",
      "Epoch: 81 Loss: 17.476452742545092\n",
      "Epoch: 82 Loss: 17.460192416165345\n",
      "Epoch: 83 Loss: 17.444025334570938\n",
      "Epoch: 84 Loss: 17.427951184710796\n",
      "Epoch: 85 Loss: 17.411969795895565\n",
      "Epoch: 86 Loss: 17.396081116129473\n",
      "Epoch: 87 Loss: 17.38028926127083\n",
      "Epoch: 88 Loss: 17.364613744419852\n",
      "Epoch: 89 Loss: 17.34902906572731\n",
      "Epoch: 90 Loss: 17.333535674613668\n",
      "Epoch: 91 Loss: 17.318134036979828\n",
      "Epoch: 92 Loss: 17.302827743959032\n",
      "Epoch: 93 Loss: 17.28761880293987\n",
      "Epoch: 94 Loss: 17.272502348552074\n",
      "Epoch: 95 Loss: 17.257478902639733\n",
      "Epoch: 96 Loss: 17.242548965087867\n",
      "Epoch: 97 Loss: 17.2277130106653\n",
      "Epoch: 98 Loss: 17.21297148645845\n",
      "Epoch: 99 Loss: 17.198324809823795\n",
      "Epoch: 0 Loss: 60.34462440821227\n",
      "Epoch: 1 Loss: 50.73029790294762\n",
      "Epoch: 2 Loss: 44.221255725843704\n",
      "Epoch: 3 Loss: 39.26987968277465\n",
      "Epoch: 4 Loss: 35.05895120711671\n",
      "Epoch: 5 Loss: 31.448039038210155\n",
      "Epoch: 6 Loss: 28.33733229878583\n",
      "Epoch: 7 Loss: 25.593107156116325\n",
      "Epoch: 8 Loss: 23.157667356532386\n",
      "Epoch: 9 Loss: 21.037345387551255\n",
      "Epoch: 10 Loss: 19.17476090378216\n",
      "Epoch: 11 Loss: 17.4959170093859\n",
      "Epoch: 12 Loss: 15.979950195133513\n",
      "Epoch: 13 Loss: 14.609071807518827\n",
      "Epoch: 14 Loss: 13.367899282155058\n",
      "Epoch: 15 Loss: 12.255558861698377\n",
      "Epoch: 16 Loss: 11.247994979802764\n",
      "Epoch: 17 Loss: 10.331921453837037\n",
      "Epoch: 18 Loss: 9.498390808898556\n",
      "Epoch: 19 Loss: 8.739414127207496\n",
      "Epoch: 20 Loss: 8.04784036071992\n",
      "Epoch: 21 Loss: 7.417255775813369\n",
      "Epoch: 22 Loss: 6.841898814001732\n",
      "Epoch: 23 Loss: 6.318087549384274\n",
      "Epoch: 24 Loss: 5.8474714632076195\n",
      "Epoch: 25 Loss: 5.417892439747712\n",
      "Epoch: 26 Loss: 5.026201537150481\n",
      "Epoch: 27 Loss: 4.666974026514836\n",
      "Epoch: 28 Loss: 4.337303271193989\n",
      "Epoch: 29 Loss: 4.0345579447586895\n",
      "Epoch: 30 Loss: 3.7563546701941113\n",
      "Epoch: 31 Loss: 3.500533536229545\n",
      "Epoch: 32 Loss: 3.265136157481055\n",
      "Epoch: 33 Loss: 3.055389470317041\n",
      "Epoch: 34 Loss: 2.86485036526029\n",
      "Epoch: 35 Loss: 2.689092988789442\n",
      "Epoch: 36 Loss: 2.526849664854292\n",
      "Epoch: 37 Loss: 2.37696870396041\n",
      "Epoch: 38 Loss: 2.2384032825426927\n",
      "Epoch: 39 Loss: 2.11021200055391\n",
      "Epoch: 40 Loss: 1.9919338974064713\n",
      "Epoch: 41 Loss: 1.8825579822335945\n",
      "Epoch: 42 Loss: 1.7818445034313006\n",
      "Epoch: 43 Loss: 1.689803190749525\n",
      "Epoch: 44 Loss: 1.6045178270843063\n",
      "Epoch: 45 Loss: 1.5252168970682998\n",
      "Epoch: 46 Loss: 1.451238923637989\n",
      "Epoch: 47 Loss: 1.382174461523272\n",
      "Epoch: 48 Loss: 1.3176484740405352\n",
      "Epoch: 49 Loss: 1.2573172453340544\n",
      "Epoch: 50 Loss: 1.2008655842684157\n",
      "Epoch: 51 Loss: 1.1481571079643587\n",
      "Epoch: 52 Loss: 1.0991216526302332\n",
      "Epoch: 53 Loss: 1.0532359918306144\n",
      "Epoch: 54 Loss: 1.0101031639125293\n",
      "Epoch: 55 Loss: 0.9720010714750872\n",
      "Epoch: 56 Loss: 0.9367126352362827\n",
      "Epoch: 57 Loss: 0.9034696353477357\n",
      "Epoch: 58 Loss: 0.8721300946153042\n",
      "Epoch: 59 Loss: 0.8425629800431285\n",
      "Epoch: 60 Loss: 0.8146591837737996\n",
      "Epoch: 61 Loss: 0.7883686998422064\n",
      "Epoch: 62 Loss: 0.7634989995042498\n",
      "Epoch: 63 Loss: 0.7399565412700454\n",
      "Epoch: 64 Loss: 0.7176546589711921\n",
      "Epoch: 65 Loss: 0.6965130118066014\n",
      "Epoch: 66 Loss: 0.6764570815000058\n",
      "Epoch: 67 Loss: 0.6574177123056033\n",
      "Epoch: 68 Loss: 0.6393306900017457\n",
      "Epoch: 69 Loss: 0.6221363563763171\n",
      "Epoch: 70 Loss: 0.6057792560355608\n",
      "Epoch: 71 Loss: 0.59020781266428\n",
      "Epoch: 72 Loss: 0.5753740321325809\n",
      "Epoch: 73 Loss: 0.5612332300859184\n",
      "Epoch: 74 Loss: 0.5477437818733921\n",
      "Epoch: 75 Loss: 0.5348717831645919\n",
      "Epoch: 76 Loss: 0.5225792525784241\n",
      "Epoch: 77 Loss: 0.5108282763661183\n",
      "Epoch: 78 Loss: 0.4995874790124929\n",
      "Epoch: 79 Loss: 0.4888275523040676\n",
      "Epoch: 80 Loss: 0.478521105741354\n",
      "Epoch: 81 Loss: 0.46864252867333694\n",
      "Epoch: 82 Loss: 0.4592190739056055\n",
      "Epoch: 83 Loss: 0.4505302937676301\n",
      "Epoch: 84 Loss: 0.4421865092695897\n",
      "Epoch: 85 Loss: 0.43416845123543196\n",
      "Epoch: 86 Loss: 0.42645808603320184\n",
      "Epoch: 87 Loss: 0.4190385288877243\n",
      "Epoch: 88 Loss: 0.4118939637644021\n",
      "Epoch: 89 Loss: 0.4050095692909798\n",
      "Epoch: 90 Loss: 0.39837145022986764\n",
      "Epoch: 91 Loss: 0.391966574055465\n",
      "Epoch: 92 Loss: 0.3857828382892051\n",
      "Epoch: 93 Loss: 0.379808805551813\n",
      "Epoch: 94 Loss: 0.3740334793900741\n",
      "Epoch: 95 Loss: 0.3684467387243815\n",
      "Epoch: 96 Loss: 0.36309420543098536\n",
      "Epoch: 97 Loss: 0.35794042572535845\n",
      "Epoch: 98 Loss: 0.3529416437203459\n",
      "Epoch: 99 Loss: 0.34809139446647824\n"
     ]
    }
   ],
   "source": [
    "C = [1,10,30,60]\n",
    "\n",
    "results = []\n",
    "for i in range(len(C)):\n",
    "    w_RBF, losses = RBF_SGD(X, y, C[i], 0.1, 100)\n",
    "    results.append([C[i], w_RBF, losses] )"
   ]
  },
  {
   "cell_type": "code",
   "execution_count": 16,
   "metadata": {},
   "outputs": [
    {
     "data": {
      "text/plain": [
       "<matplotlib.legend.Legend at 0x174a11e97f0>"
      ]
     },
     "execution_count": 16,
     "metadata": {},
     "output_type": "execute_result"
    },
    {
     "data": {
      "image/png": "[encoded data removed]",
      "text/plain": [
       "<Figure size 432x288 with 1 Axes>"
      ]
     },
     "metadata": {
      "needs_background": "light"
     },
     "output_type": "display_data"
    }
   ],
   "source": [
    "for i in range(len(results)):\n",
    "    plt.plot(results[i][2],label=str(results[i][0])+' RBF')\n",
    "    \n",
    "plt.legend(loc=\"upper right\")"
   ]
  },
  {
   "cell_type": "code",
   "execution_count": 11,
   "metadata": {},
   "outputs": [
    {
     "data": {
      "text/plain": [
       "[<matplotlib.lines.Line2D at 0x174a120f8e0>]"
      ]
     },
     "execution_count": 11,
     "metadata": {},
     "output_type": "execute_result"
    },
    {
     "data": {
      "image/png": "[encoded data removed]",
      "text/plain": [
       "<Figure size 432x288 with 1 Axes>"
      ]
     },
     "metadata": {
      "needs_background": "light"
     },
     "output_type": "display_data"
    }
   ],
   "source": [
    "U = RBF_design_matrix(X,C)\n",
    "\n",
    "predict = U @ w_RBF\n",
    "plt.plot(y,predict,'.',Color='orange')"
   ]
  },
  {
   "cell_type": "code",
   "execution_count": 12,
   "metadata": {},
   "outputs": [
    {
     "data": {
      "text/plain": [
       "[<matplotlib.lines.Line2D at 0x174a125a8e0>]"
      ]
     },
     "execution_count": 12,
     "metadata": {},
     "output_type": "execute_result"
    },
    {
     "data": {
      "image/png": "[encoded data removed]",
      "text/plain": [
       "<Figure size 432x288 with 1 Axes>"
      ]
     },
     "metadata": {
      "needs_background": "light"
     },
     "output_type": "display_data"
    }
   ],
   "source": [
    "plt.plot(w_pseudoinv,w_RBF,'.',Color='green')"
   ]
  },
  {
   "cell_type": "code",
   "execution_count": null,
   "metadata": {},
   "outputs": [],
   "source": [
    "C = 60\n",
    "lr = 0.1\n",
    "\n",
    "U = RBF_design_matrix(X,C)\n",
    "w_RBF = np.random.randn(C,1)\n",
    "\n",
    "epochs = 500\n",
    "errors = []\n",
    "for k in range(epochs):\n",
    "    for i in range(len(U)):\n",
    "        x = U[i]\n",
    "        x = np.expand_dims(x,1)\n",
    "        pred = x.T @ w_RBF\n",
    "\n",
    "        error = y[i] - pred\n",
    "\n",
    "        w_RBF = w_RBF - lr*(error*(-x))\n",
    "        \n",
    "    predict = U @ w_RBF\n",
    "    error = np.sum(np.absolute(y - predict))\n",
    "    errors.append(error)\n",
    "    \n",
    "    print('Epoch:',k, 'Loss:', error)"
   ]
  },
  {
   "cell_type": "code",
   "execution_count": null,
   "metadata": {},
   "outputs": [],
   "source": [
    "plt.plot(w_pseudoinv,w_RBF,'.',Color='green')"
   ]
  },
  {
   "cell_type": "code",
   "execution_count": null,
   "metadata": {},
   "outputs": [],
   "source": [
    "predict = U @ w_RBF\n",
    "plt.plot(y,predict,'.',Color='orange')"
   ]
  },
  {
   "cell_type": "code",
   "execution_count": null,
   "metadata": {},
   "outputs": [],
   "source": [
    "X"
   ]
  },
  {
   "cell_type": "code",
   "execution_count": null,
   "metadata": {},
   "outputs": [],
   "source": [
    "y"
   ]
  },
  {
   "cell_type": "code",
   "execution_count": null,
   "metadata": {},
   "outputs": [],
   "source": []
  }
 ],
 "metadata": {
  "kernelspec": {
   "display_name": "Python 3",
   "language": "python",
   "name": "python3"
  },
  "language_info": {
   "codemirror_mode": {
    "name": "ipython",
    "version": 3
   },
   "file_extension": ".py",
   "mimetype": "text/x-python",
   "name": "python",
   "nbconvert_exporter": "python",
   "pygments_lexer": "ipython3",
   "version": "3.8.3"
  }
 },
 "nbformat": 4,
 "nbformat_minor": 4
}
